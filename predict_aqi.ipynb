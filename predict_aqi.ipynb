{
 "cells": [
  {
   "cell_type": "code",
   "execution_count": 1,
   "metadata": {},
   "outputs": [],
   "source": [
    "%load_ext google.cloud.bigquery"
   ]
  },
  {
   "cell_type": "code",
   "execution_count": 2,
   "metadata": {},
   "outputs": [
    {
     "data": {
      "text/html": [
       "        <script type=\"text/javascript\">\n",
       "        window.PlotlyConfig = {MathJaxConfig: 'local'};\n",
       "        if (window.MathJax) {MathJax.Hub.Config({SVG: {font: \"STIX-Web\"}});}\n",
       "        if (typeof require !== 'undefined') {\n",
       "        require.undef(\"plotly\");\n",
       "        requirejs.config({\n",
       "            paths: {\n",
       "                'plotly': ['https://cdn.plot.ly/plotly-latest.min']\n",
       "            }\n",
       "        });\n",
       "        require(['plotly'], function(Plotly) {\n",
       "            window._Plotly = Plotly;\n",
       "        });\n",
       "        }\n",
       "        </script>\n",
       "        "
      ]
     },
     "metadata": {},
     "output_type": "display_data"
    }
   ],
   "source": [
    "import numpy as np \n",
    "import pandas as pd\n",
    "import os\n",
    "os.environ[\"GOOGLE_APPLICATION_CREDENTIALS\"]=\"/home/shuang/Downloads/bqair-2b59936a9500.json\"\n",
    "\n",
    "# Big query helpers\n",
    "from google.cloud import bigquery\n",
    "from bq_helper import BigQueryHelper\n",
    "\n",
    "# Import plotting libaries\n",
    "import matplotlib.pyplot as plt\n",
    "import plotly.graph_objs as go\n",
    "import plotly.plotly as py\n",
    "import plotly.figure_factory as ff\n",
    "import plotly.io as pio\n",
    "import geopandas\n",
    "import shapely\n",
    "\n",
    "# the Plotly in offline mode we can see map in the notebook.\n",
    "from plotly.offline import download_plotlyjs,init_notebook_mode, plot,iplot\n",
    "init_notebook_mode(connected=True)"
   ]
  },
  {
   "cell_type": "code",
   "execution_count": 3,
   "metadata": {},
   "outputs": [],
   "source": [
    "import plotly\n",
    "plotly.tools.set_credentials_file(username='cleopathy', api_key='Vt9pQQVXJcV8bqHarLVt')"
   ]
  },
  {
   "cell_type": "code",
   "execution_count": 4,
   "metadata": {},
   "outputs": [],
   "source": [
    "# getting pm25 data:\n",
    "QUERY = \"\"\"\n",
    "    SELECT\n",
    "        state_code,\n",
    "        county_code,\n",
    "        date_local,\n",
    "        arithmetic_mean,\n",
    "        state_name,\n",
    "        county_name,\n",
    "        aqi\n",
    "    FROM\n",
    "      `bigquery-public-data.epa_historical_air_quality.pm25_frm_daily_summary`\n",
    "    WHERE\n",
    "      poc = 1\n",
    "      AND EXTRACT(YEAR FROM date_local) in (2004,2005,2006,2007,2008,2009,2010,2011,2012,2013,2014,2015,2016,2017)\n",
    "    \n",
    "        \"\"\""
   ]
  },
  {
   "cell_type": "code",
   "execution_count": 5,
   "metadata": {},
   "outputs": [
    {
     "data": {
      "text/html": [
       "<div>\n",
       "<style scoped>\n",
       "    .dataframe tbody tr th:only-of-type {\n",
       "        vertical-align: middle;\n",
       "    }\n",
       "\n",
       "    .dataframe tbody tr th {\n",
       "        vertical-align: top;\n",
       "    }\n",
       "\n",
       "    .dataframe thead th {\n",
       "        text-align: right;\n",
       "    }\n",
       "</style>\n",
       "<table border=\"1\" class=\"dataframe\">\n",
       "  <thead>\n",
       "    <tr style=\"text-align: right;\">\n",
       "      <th></th>\n",
       "      <th>state_code</th>\n",
       "      <th>county_code</th>\n",
       "      <th>date_local</th>\n",
       "      <th>arithmetic_mean</th>\n",
       "      <th>state_name</th>\n",
       "      <th>county_name</th>\n",
       "      <th>aqi</th>\n",
       "      <th>year</th>\n",
       "      <th>month</th>\n",
       "      <th>month_name</th>\n",
       "    </tr>\n",
       "  </thead>\n",
       "  <tbody>\n",
       "    <tr>\n",
       "      <th>0</th>\n",
       "      <td>78</td>\n",
       "      <td>010</td>\n",
       "      <td>2004-06-02</td>\n",
       "      <td>5.4</td>\n",
       "      <td>Virgin Islands</td>\n",
       "      <td>St Croix</td>\n",
       "      <td>23.0</td>\n",
       "      <td>2004</td>\n",
       "      <td>6</td>\n",
       "      <td>Jun</td>\n",
       "    </tr>\n",
       "    <tr>\n",
       "      <th>1</th>\n",
       "      <td>78</td>\n",
       "      <td>010</td>\n",
       "      <td>2004-12-05</td>\n",
       "      <td>1.7</td>\n",
       "      <td>Virgin Islands</td>\n",
       "      <td>St Croix</td>\n",
       "      <td>7.0</td>\n",
       "      <td>2004</td>\n",
       "      <td>12</td>\n",
       "      <td>Dec</td>\n",
       "    </tr>\n",
       "    <tr>\n",
       "      <th>2</th>\n",
       "      <td>78</td>\n",
       "      <td>030</td>\n",
       "      <td>2006-10-14</td>\n",
       "      <td>7.2</td>\n",
       "      <td>Virgin Islands</td>\n",
       "      <td>St Thomas</td>\n",
       "      <td>30.0</td>\n",
       "      <td>2006</td>\n",
       "      <td>10</td>\n",
       "      <td>Oct</td>\n",
       "    </tr>\n",
       "    <tr>\n",
       "      <th>3</th>\n",
       "      <td>78</td>\n",
       "      <td>030</td>\n",
       "      <td>2004-06-02</td>\n",
       "      <td>7.0</td>\n",
       "      <td>Virgin Islands</td>\n",
       "      <td>St Thomas</td>\n",
       "      <td>29.0</td>\n",
       "      <td>2004</td>\n",
       "      <td>6</td>\n",
       "      <td>Jun</td>\n",
       "    </tr>\n",
       "    <tr>\n",
       "      <th>4</th>\n",
       "      <td>78</td>\n",
       "      <td>010</td>\n",
       "      <td>2004-01-16</td>\n",
       "      <td>2.2</td>\n",
       "      <td>Virgin Islands</td>\n",
       "      <td>St Croix</td>\n",
       "      <td>9.0</td>\n",
       "      <td>2004</td>\n",
       "      <td>1</td>\n",
       "      <td>Jan</td>\n",
       "    </tr>\n",
       "  </tbody>\n",
       "</table>\n",
       "</div>"
      ],
      "text/plain": [
       "  state_code county_code date_local  arithmetic_mean      state_name  \\\n",
       "0         78         010 2004-06-02              5.4  Virgin Islands   \n",
       "1         78         010 2004-12-05              1.7  Virgin Islands   \n",
       "2         78         030 2006-10-14              7.2  Virgin Islands   \n",
       "3         78         030 2004-06-02              7.0  Virgin Islands   \n",
       "4         78         010 2004-01-16              2.2  Virgin Islands   \n",
       "\n",
       "  county_name   aqi  year  month month_name  \n",
       "0    St Croix  23.0  2004      6        Jun  \n",
       "1    St Croix   7.0  2004     12        Dec  \n",
       "2   St Thomas  30.0  2006     10        Oct  \n",
       "3   St Thomas  29.0  2004      6        Jun  \n",
       "4    St Croix   9.0  2004      1        Jan  "
      ]
     },
     "execution_count": 5,
     "metadata": {},
     "output_type": "execute_result"
    }
   ],
   "source": [
    "bq_assistant = BigQueryHelper(\"bigquery-public-data\", \"epa_historical_air_quality\")\n",
    "df_pm25 = bq_assistant.query_to_pandas(QUERY) # getting data through big query to pandas\n",
    "df_pm25['date_local'] = pd.to_datetime(df_pm25['date_local'])\n",
    "df_pm25['year'] = df_pm25['date_local'].dt.year\n",
    "df_pm25['month'] = df_pm25['date_local'].dt.month\n",
    "import calendar\n",
    "df_pm25['month_name'] = df_pm25['month'].apply(lambda x: calendar.month_abbr[x])\n",
    "df_pm25['aqi'].fillna(df_pm25['aqi'].mean(), inplace = True)\n",
    "df_pm25.head()"
   ]
  },
  {
   "cell_type": "code",
   "execution_count": 8,
   "metadata": {},
   "outputs": [
    {
     "name": "stdout",
     "output_type": "stream",
     "text": [
      "<class 'pandas.core.frame.DataFrame'>\n",
      "Int64Index: 1844133 entries, 0 to 44132\n",
      "Data columns (total 10 columns):\n",
      "state_code         object\n",
      "county_code        object\n",
      "date_local         datetime64[ns]\n",
      "arithmetic_mean    float64\n",
      "state_name         object\n",
      "county_name        object\n",
      "aqi                float64\n",
      "year               int64\n",
      "month              int64\n",
      "month_name         object\n",
      "dtypes: datetime64[ns](1), float64(2), int64(2), object(5)\n",
      "memory usage: 154.8+ MB\n",
      "<class 'pandas.core.frame.DataFrame'>\n",
      "Int64Index: 1844133 entries, 0 to 44132\n",
      "Data columns (total 10 columns):\n",
      "state_code         object\n",
      "county_code        object\n",
      "date_local         datetime64[ns]\n",
      "arithmetic_mean    float64\n",
      "state_name         object\n",
      "county_name        object\n",
      "aqi                float64\n",
      "year               int64\n",
      "month              int64\n",
      "month_name         object\n",
      "dtypes: datetime64[ns](1), float64(2), int64(2), object(5)\n",
      "memory usage: 154.8+ MB\n"
     ]
    }
   ],
   "source": [
    "df_pm25.info() \n",
    "df_pm25.drop_duplicates()\n",
    "df_pm25.info() "
   ]
  },
  {
   "cell_type": "code",
   "execution_count": 10,
   "metadata": {},
   "outputs": [],
   "source": [
    "import sklearn "
   ]
  },
  {
   "cell_type": "code",
   "execution_count": 14,
   "metadata": {},
   "outputs": [],
   "source": [
    "from sklearn.model_selection import train_test_split\n",
    "from sklearn import preprocessing"
   ]
  },
  {
   "cell_type": "code",
   "execution_count": 12,
   "metadata": {},
   "outputs": [],
   "source": [
    "#now we would like to predict AQI of pm25 using sklearn,but now we have to use pandas get dummies and one-hot encoder."
   ]
  },
  {
   "cell_type": "code",
   "execution_count": 23,
   "metadata": {},
   "outputs": [
    {
     "data": {
      "text/plain": [
       "California              201494\n",
       "Pennsylvania            100662\n",
       "Hawaii                   90342\n",
       "Indiana                  75614\n",
       "Florida                  74652\n",
       "Ohio                     71064\n",
       "North Carolina           59707\n",
       "Georgia                  55551\n",
       "Iowa                     54863\n",
       "Michigan                 51259\n",
       "Utah                     44904\n",
       "New York                 44032\n",
       "Colorado                 42329\n",
       "Virginia                 41904\n",
       "New Jersey               41823\n",
       "Alabama                  40729\n",
       "Wyoming                  38880\n",
       "South Carolina           38788\n",
       "Illinois                 38690\n",
       "Tennessee                37970\n",
       "Louisiana                34117\n",
       "Texas                    33579\n",
       "Kentucky                 31761\n",
       "Massachusetts            28623\n",
       "Wisconsin                28514\n",
       "Arkansas                 27097\n",
       "New Mexico               26487\n",
       "Nevada                   25776\n",
       "Connecticut              25011\n",
       "West Virginia            24834\n",
       "Maryland                 24457\n",
       "Missouri                 23677\n",
       "Oregon                   22728\n",
       "Minnesota                20777\n",
       "Oklahoma                 18536\n",
       "Rhode Island             18407\n",
       "Arizona                  17776\n",
       "Kansas                   16736\n",
       "Nebraska                 16165\n",
       "Washington               15119\n",
       "Mississippi              14661\n",
       "Delaware                 14010\n",
       "Montana                  13812\n",
       "District Of Columbia     12520\n",
       "Puerto Rico              12312\n",
       "Idaho                    11002\n",
       "South Dakota             10632\n",
       "New Hampshire             8060\n",
       "Alaska                    7190\n",
       "Vermont                   6871\n",
       "North Dakota              4904\n",
       "Maine                     1755\n",
       "Virgin Islands             704\n",
       "Canada                     266\n",
       "Name: state_name, dtype: int64"
      ]
     },
     "execution_count": 23,
     "metadata": {},
     "output_type": "execute_result"
    }
   ],
   "source": [
    "df_pm25['state_name'].value_counts()"
   ]
  },
  {
   "cell_type": "code",
   "execution_count": 24,
   "metadata": {},
   "outputs": [],
   "source": [
    "le = preprocessing.LabelEncoder()"
   ]
  },
  {
   "cell_type": "code",
   "execution_count": 25,
   "metadata": {},
   "outputs": [
    {
     "data": {
      "text/plain": [
       "LabelEncoder()"
      ]
     },
     "execution_count": 25,
     "metadata": {},
     "output_type": "execute_result"
    }
   ],
   "source": [
    "le.fit(df_pm25['state_name'])"
   ]
  },
  {
   "cell_type": "code",
   "execution_count": 17,
   "metadata": {},
   "outputs": [
    {
     "data": {
      "text/plain": [
       "['Alabama',\n",
       " 'Alaska',\n",
       " 'Arizona',\n",
       " 'Arkansas',\n",
       " 'California',\n",
       " 'Canada',\n",
       " 'Colorado',\n",
       " 'Connecticut',\n",
       " 'Delaware',\n",
       " 'District Of Columbia',\n",
       " 'Florida',\n",
       " 'Georgia',\n",
       " 'Hawaii',\n",
       " 'Idaho',\n",
       " 'Illinois',\n",
       " 'Indiana',\n",
       " 'Iowa',\n",
       " 'Kansas',\n",
       " 'Kentucky',\n",
       " 'Louisiana',\n",
       " 'Maine',\n",
       " 'Maryland',\n",
       " 'Massachusetts',\n",
       " 'Michigan',\n",
       " 'Minnesota',\n",
       " 'Mississippi',\n",
       " 'Missouri',\n",
       " 'Montana',\n",
       " 'Nebraska',\n",
       " 'Nevada',\n",
       " 'New Hampshire',\n",
       " 'New Jersey',\n",
       " 'New Mexico',\n",
       " 'New York',\n",
       " 'North Carolina',\n",
       " 'North Dakota',\n",
       " 'Ohio',\n",
       " 'Oklahoma',\n",
       " 'Oregon',\n",
       " 'Pennsylvania',\n",
       " 'Puerto Rico',\n",
       " 'Rhode Island',\n",
       " 'South Carolina',\n",
       " 'South Dakota',\n",
       " 'Tennessee',\n",
       " 'Texas',\n",
       " 'Utah',\n",
       " 'Vermont',\n",
       " 'Virgin Islands',\n",
       " 'Virginia',\n",
       " 'Washington',\n",
       " 'West Virginia',\n",
       " 'Wisconsin',\n",
       " 'Wyoming']"
      ]
     },
     "execution_count": 17,
     "metadata": {},
     "output_type": "execute_result"
    }
   ],
   "source": [
    "list(le.classes_)"
   ]
  },
  {
   "cell_type": "code",
   "execution_count": 26,
   "metadata": {},
   "outputs": [],
   "source": [
    "state = le.transform(df_pm25['state_name'])"
   ]
  },
  {
   "cell_type": "code",
   "execution_count": 27,
   "metadata": {},
   "outputs": [
    {
     "data": {
      "text/plain": [
       "array([48, 48, 48, ..., 40, 40, 40])"
      ]
     },
     "execution_count": 27,
     "metadata": {},
     "output_type": "execute_result"
    }
   ],
   "source": [
    "state"
   ]
  },
  {
   "cell_type": "code",
   "execution_count": 28,
   "metadata": {},
   "outputs": [
    {
     "data": {
      "text/html": [
       "<div>\n",
       "<style scoped>\n",
       "    .dataframe tbody tr th:only-of-type {\n",
       "        vertical-align: middle;\n",
       "    }\n",
       "\n",
       "    .dataframe tbody tr th {\n",
       "        vertical-align: top;\n",
       "    }\n",
       "\n",
       "    .dataframe thead th {\n",
       "        text-align: right;\n",
       "    }\n",
       "</style>\n",
       "<table border=\"1\" class=\"dataframe\">\n",
       "  <thead>\n",
       "    <tr style=\"text-align: right;\">\n",
       "      <th></th>\n",
       "      <th>state_code</th>\n",
       "      <th>county_code</th>\n",
       "      <th>aqi</th>\n",
       "      <th>year</th>\n",
       "      <th>month</th>\n",
       "    </tr>\n",
       "  </thead>\n",
       "  <tbody>\n",
       "    <tr>\n",
       "      <th>0</th>\n",
       "      <td>78</td>\n",
       "      <td>010</td>\n",
       "      <td>23.0</td>\n",
       "      <td>2004</td>\n",
       "      <td>6</td>\n",
       "    </tr>\n",
       "    <tr>\n",
       "      <th>1</th>\n",
       "      <td>78</td>\n",
       "      <td>010</td>\n",
       "      <td>7.0</td>\n",
       "      <td>2004</td>\n",
       "      <td>12</td>\n",
       "    </tr>\n",
       "    <tr>\n",
       "      <th>2</th>\n",
       "      <td>78</td>\n",
       "      <td>030</td>\n",
       "      <td>30.0</td>\n",
       "      <td>2006</td>\n",
       "      <td>10</td>\n",
       "    </tr>\n",
       "    <tr>\n",
       "      <th>3</th>\n",
       "      <td>78</td>\n",
       "      <td>030</td>\n",
       "      <td>29.0</td>\n",
       "      <td>2004</td>\n",
       "      <td>6</td>\n",
       "    </tr>\n",
       "    <tr>\n",
       "      <th>4</th>\n",
       "      <td>78</td>\n",
       "      <td>010</td>\n",
       "      <td>9.0</td>\n",
       "      <td>2004</td>\n",
       "      <td>1</td>\n",
       "    </tr>\n",
       "  </tbody>\n",
       "</table>\n",
       "</div>"
      ],
      "text/plain": [
       "  state_code county_code   aqi  year  month\n",
       "0         78         010  23.0  2004      6\n",
       "1         78         010   7.0  2004     12\n",
       "2         78         030  30.0  2006     10\n",
       "3         78         030  29.0  2004      6\n",
       "4         78         010   9.0  2004      1"
      ]
     },
     "execution_count": 28,
     "metadata": {},
     "output_type": "execute_result"
    }
   ],
   "source": [
    "sub = df_pm25[['state_code','county_code','aqi','year','month']]\n",
    "sub.head()"
   ]
  },
  {
   "cell_type": "code",
   "execution_count": null,
   "metadata": {},
   "outputs": [],
   "source": [
    "#now we will encode the year as year is non-numerical data. That way it is easier for us to predict aqi with sklearn machine learning."
   ]
  },
  {
   "cell_type": "code",
   "execution_count": 40,
   "metadata": {},
   "outputs": [],
   "source": [
    "def categorical_encoder(df):\n",
    "    data_original = df[:]\n",
    "    data_transformed = df[:]\n",
    "    for i in df.columns:\n",
    "        if df[i].dtype == object:\n",
    "            le = preprocessing.LabelEncoder()\n",
    "            le.fit(df[i])\n",
    "            data_transformed[i] = le.transform(df[i])\n",
    "            #original data is le.inverse transform\n",
    "            data_original[i] = le.inverse_transform(data_transformed[i])\n",
    "    return data_transformed,data_original"
   ]
  },
  {
   "cell_type": "code",
   "execution_count": 43,
   "metadata": {},
   "outputs": [
    {
     "data": {
      "text/plain": [
       "(       state_code  county_code   aqi  year  month\n",
       " 0              52            5  23.0  2004      6\n",
       " 1              52            5   7.0  2004     12\n",
       " 2              52           17  30.0  2006     10\n",
       " 3              52           17  29.0  2004      6\n",
       " 4              52            5   9.0  2004      1\n",
       " 5              52            5  28.0  2004      3\n",
       " 6              52            5  13.0  2004     12\n",
       " 7              52            5  45.0  2006      9\n",
       " 8              52           17  20.0  2006      1\n",
       " 9              52           17  33.0  2004      6\n",
       " 10             52           17  19.0  2006      1\n",
       " 11             52            5  19.0  2004      6\n",
       " 12             52            5  17.0  2006      9\n",
       " 13             52            5  45.0  2006     12\n",
       " 14             52            5  13.0  2004     10\n",
       " 15             52           17  23.0  2004      7\n",
       " 16             52            5  10.0  2004      4\n",
       " 17             52            5  22.0  2006     12\n",
       " 18             52            5  14.0  2004      1\n",
       " 19             52            5  10.0  2004      2\n",
       " 20             52            5  55.0  2004      6\n",
       " 21             52            5   8.0  2004     10\n",
       " 22             52            5  67.0  2006      6\n",
       " 23             52           17  38.0  2006     11\n",
       " 24             52            5  41.0  2006      9\n",
       " 25             52            5  23.0  2006      9\n",
       " 26             52            5  56.0  2006      7\n",
       " 27             52            5  10.0  2004      2\n",
       " 28             52           17  18.0  2005      9\n",
       " 29             52            5  33.0  2005      8\n",
       " ...           ...          ...   ...   ...    ...\n",
       " 44103          51           70  39.0  2005      7\n",
       " 44104          51           70  31.0  2005     11\n",
       " 44105          51           70  23.0  2008      2\n",
       " 44106          51           70  19.0  2008      7\n",
       " 44107          51           70  24.0  2006      7\n",
       " 44108          51           70  28.0  2005      7\n",
       " 44109          51           70  20.0  2008      3\n",
       " 44110          51           70  55.0  2008      8\n",
       " 44111          51           70  13.0  2008     10\n",
       " 44112          51           70  64.0  2007      3\n",
       " 44113          51           70  16.0  2007      4\n",
       " 44114          51           70  13.0  2007      1\n",
       " 44115          51           70  23.0  2007      2\n",
       " 44116          51           70  31.0  2005      8\n",
       " 44117          51           70  30.0  2007      8\n",
       " 44118          51           70  47.0  2007     11\n",
       " 44119          51           70  19.0  2008      2\n",
       " 44120          51           70  19.0  2008      6\n",
       " 44121          51           70  25.0  2005      2\n",
       " 44122          51           70  54.0  2005      4\n",
       " 44123          51           70  34.0  2005      5\n",
       " 44124          51           70  25.0  2005      9\n",
       " 44125          51           70  26.0  2005     12\n",
       " 44126          51           70  16.0  2008      1\n",
       " 44127          51           70  23.0  2008      4\n",
       " 44128          51           70  87.0  2008      5\n",
       " 44129          51           70  64.0  2005      9\n",
       " 44130          51           70  22.0  2008      2\n",
       " 44131          51           70  31.0  2008      5\n",
       " 44132          51           70  33.0  2008     11\n",
       " \n",
       " [1844133 rows x 5 columns],       state_code county_code   aqi  year  month\n",
       " 0             78         010  23.0  2004      6\n",
       " 1             78         010   7.0  2004     12\n",
       " 2             78         030  30.0  2006     10\n",
       " 3             78         030  29.0  2004      6\n",
       " 4             78         010   9.0  2004      1\n",
       " 5             78         010  28.0  2004      3\n",
       " 6             78         010  13.0  2004     12\n",
       " 7             78         010  45.0  2006      9\n",
       " 8             78         030  20.0  2006      1\n",
       " 9             78         030  33.0  2004      6\n",
       " 10            78         030  19.0  2006      1\n",
       " 11            78         010  19.0  2004      6\n",
       " 12            78         010  17.0  2006      9\n",
       " 13            78         010  45.0  2006     12\n",
       " 14            78         010  13.0  2004     10\n",
       " 15            78         030  23.0  2004      7\n",
       " 16            78         010  10.0  2004      4\n",
       " 17            78         010  22.0  2006     12\n",
       " 18            78         010  14.0  2004      1\n",
       " 19            78         010  10.0  2004      2\n",
       " 20            78         010  55.0  2004      6\n",
       " 21            78         010   8.0  2004     10\n",
       " 22            78         010  67.0  2006      6\n",
       " 23            78         030  38.0  2006     11\n",
       " 24            78         010  41.0  2006      9\n",
       " 25            78         010  23.0  2006      9\n",
       " 26            78         010  56.0  2006      7\n",
       " 27            78         010  10.0  2004      2\n",
       " 28            78         030  18.0  2005      9\n",
       " 29            78         010  33.0  2005      8\n",
       " ...          ...         ...   ...   ...    ...\n",
       " 44103         72         127  39.0  2005      7\n",
       " 44104         72         127  31.0  2005     11\n",
       " 44105         72         127  23.0  2008      2\n",
       " 44106         72         127  19.0  2008      7\n",
       " 44107         72         127  24.0  2006      7\n",
       " 44108         72         127  28.0  2005      7\n",
       " 44109         72         127  20.0  2008      3\n",
       " 44110         72         127  55.0  2008      8\n",
       " 44111         72         127  13.0  2008     10\n",
       " 44112         72         127  64.0  2007      3\n",
       " 44113         72         127  16.0  2007      4\n",
       " 44114         72         127  13.0  2007      1\n",
       " 44115         72         127  23.0  2007      2\n",
       " 44116         72         127  31.0  2005      8\n",
       " 44117         72         127  30.0  2007      8\n",
       " 44118         72         127  47.0  2007     11\n",
       " 44119         72         127  19.0  2008      2\n",
       " 44120         72         127  19.0  2008      6\n",
       " 44121         72         127  25.0  2005      2\n",
       " 44122         72         127  54.0  2005      4\n",
       " 44123         72         127  34.0  2005      5\n",
       " 44124         72         127  25.0  2005      9\n",
       " 44125         72         127  26.0  2005     12\n",
       " 44126         72         127  16.0  2008      1\n",
       " 44127         72         127  23.0  2008      4\n",
       " 44128         72         127  87.0  2008      5\n",
       " 44129         72         127  64.0  2005      9\n",
       " 44130         72         127  22.0  2008      2\n",
       " 44131         72         127  31.0  2008      5\n",
       " 44132         72         127  33.0  2008     11\n",
       " \n",
       " [1844133 rows x 5 columns])"
      ]
     },
     "execution_count": 43,
     "metadata": {},
     "output_type": "execute_result"
    }
   ],
   "source": [
    "categorical_encoder(sub)"
   ]
  },
  {
   "cell_type": "code",
   "execution_count": null,
   "metadata": {},
   "outputs": [],
   "source": [
    "#now let's train the data: we would like to predict aqi "
   ]
  },
  {
   "cell_type": "code",
   "execution_count": null,
   "metadata": {},
   "outputs": [],
   "source": []
  },
  {
   "cell_type": "code",
   "execution_count": null,
   "metadata": {},
   "outputs": [],
   "source": []
  },
  {
   "cell_type": "code",
   "execution_count": null,
   "metadata": {},
   "outputs": [],
   "source": []
  },
  {
   "cell_type": "code",
   "execution_count": null,
   "metadata": {},
   "outputs": [],
   "source": []
  },
  {
   "cell_type": "code",
   "execution_count": null,
   "metadata": {},
   "outputs": [],
   "source": []
  },
  {
   "cell_type": "code",
   "execution_count": null,
   "metadata": {},
   "outputs": [],
   "source": []
  },
  {
   "cell_type": "code",
   "execution_count": null,
   "metadata": {},
   "outputs": [],
   "source": []
  },
  {
   "cell_type": "code",
   "execution_count": null,
   "metadata": {},
   "outputs": [],
   "source": []
  }
 ],
 "metadata": {
  "kernelspec": {
   "display_name": "Python 3",
   "language": "python",
   "name": "python3"
  },
  "language_info": {
   "codemirror_mode": {
    "name": "ipython",
    "version": 3
   },
   "file_extension": ".py",
   "mimetype": "text/x-python",
   "name": "python",
   "nbconvert_exporter": "python",
   "pygments_lexer": "ipython3",
   "version": "3.7.1"
  }
 },
 "nbformat": 4,
 "nbformat_minor": 2
}
