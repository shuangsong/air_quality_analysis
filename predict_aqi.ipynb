{
 "cells": [
  {
   "cell_type": "code",
   "execution_count": 1,
   "metadata": {},
   "outputs": [],
   "source": [
    "%load_ext google.cloud.bigquery"
   ]
  },
  {
   "cell_type": "code",
   "execution_count": 2,
   "metadata": {},
   "outputs": [
    {
     "data": {
      "text/html": [
       "        <script type=\"text/javascript\">\n",
       "        window.PlotlyConfig = {MathJaxConfig: 'local'};\n",
       "        if (window.MathJax) {MathJax.Hub.Config({SVG: {font: \"STIX-Web\"}});}\n",
       "        if (typeof require !== 'undefined') {\n",
       "        require.undef(\"plotly\");\n",
       "        requirejs.config({\n",
       "            paths: {\n",
       "                'plotly': ['https://cdn.plot.ly/plotly-latest.min']\n",
       "            }\n",
       "        });\n",
       "        require(['plotly'], function(Plotly) {\n",
       "            window._Plotly = Plotly;\n",
       "        });\n",
       "        }\n",
       "        </script>\n",
       "        "
      ]
     },
     "metadata": {},
     "output_type": "display_data"
    }
   ],
   "source": [
    "import numpy as np \n",
    "import pandas as pd\n",
    "import os\n",
    "os.environ[\"GOOGLE_APPLICATION_CREDENTIALS\"]=\"/home/shuang/Downloads/bqair-2b59936a9500.json\"\n",
    "\n",
    "# Big query helpers\n",
    "from google.cloud import bigquery\n",
    "from bq_helper import BigQueryHelper\n",
    "\n",
    "# Import plotting libaries\n",
    "import matplotlib.pyplot as plt\n",
    "import plotly.graph_objs as go\n",
    "import plotly.plotly as py\n",
    "import plotly.figure_factory as ff\n",
    "import plotly.io as pio\n",
    "import geopandas\n",
    "import shapely\n",
    "\n",
    "# the Plotly in offline mode we can see map in the notebook.\n",
    "from plotly.offline import download_plotlyjs,init_notebook_mode, plot,iplot\n",
    "init_notebook_mode(connected=True)"
   ]
  },
  {
   "cell_type": "code",
   "execution_count": 3,
   "metadata": {},
   "outputs": [],
   "source": [
    "import plotly\n",
    "plotly.tools.set_credentials_file(username='cleopathy', api_key='Vt9pQQVXJcV8bqHarLVt')"
   ]
  },
  {
   "cell_type": "code",
   "execution_count": 4,
   "metadata": {},
   "outputs": [],
   "source": [
    "# getting pm25 data:\n",
    "QUERY = \"\"\"\n",
    "    SELECT\n",
    "        state_code,\n",
    "        county_code,\n",
    "        date_local,\n",
    "        arithmetic_mean,\n",
    "        state_name,\n",
    "        county_name,\n",
    "        aqi\n",
    "    FROM\n",
    "      `bigquery-public-data.epa_historical_air_quality.pm25_frm_daily_summary`\n",
    "    WHERE\n",
    "      poc = 1\n",
    "      AND EXTRACT(YEAR FROM date_local) in (2004,2005,2006,2007,2008,2009,2010,2011,2012,2013,2014,2015,2016,2017)\n",
    "    \n",
    "        \"\"\""
   ]
  },
  {
   "cell_type": "code",
   "execution_count": 5,
   "metadata": {},
   "outputs": [
    {
     "data": {
      "text/html": [
       "<div>\n",
       "<style scoped>\n",
       "    .dataframe tbody tr th:only-of-type {\n",
       "        vertical-align: middle;\n",
       "    }\n",
       "\n",
       "    .dataframe tbody tr th {\n",
       "        vertical-align: top;\n",
       "    }\n",
       "\n",
       "    .dataframe thead th {\n",
       "        text-align: right;\n",
       "    }\n",
       "</style>\n",
       "<table border=\"1\" class=\"dataframe\">\n",
       "  <thead>\n",
       "    <tr style=\"text-align: right;\">\n",
       "      <th></th>\n",
       "      <th>state_code</th>\n",
       "      <th>county_code</th>\n",
       "      <th>date_local</th>\n",
       "      <th>arithmetic_mean</th>\n",
       "      <th>state_name</th>\n",
       "      <th>county_name</th>\n",
       "      <th>aqi</th>\n",
       "      <th>year</th>\n",
       "      <th>month</th>\n",
       "      <th>month_name</th>\n",
       "    </tr>\n",
       "  </thead>\n",
       "  <tbody>\n",
       "    <tr>\n",
       "      <th>0</th>\n",
       "      <td>78</td>\n",
       "      <td>030</td>\n",
       "      <td>2007-03-01</td>\n",
       "      <td>3.1</td>\n",
       "      <td>Virgin Islands</td>\n",
       "      <td>St Thomas</td>\n",
       "      <td>13.0</td>\n",
       "      <td>2007</td>\n",
       "      <td>3</td>\n",
       "      <td>Mar</td>\n",
       "    </tr>\n",
       "    <tr>\n",
       "      <th>1</th>\n",
       "      <td>78</td>\n",
       "      <td>030</td>\n",
       "      <td>2007-03-25</td>\n",
       "      <td>5.5</td>\n",
       "      <td>Virgin Islands</td>\n",
       "      <td>St Thomas</td>\n",
       "      <td>23.0</td>\n",
       "      <td>2007</td>\n",
       "      <td>3</td>\n",
       "      <td>Mar</td>\n",
       "    </tr>\n",
       "    <tr>\n",
       "      <th>2</th>\n",
       "      <td>78</td>\n",
       "      <td>030</td>\n",
       "      <td>2005-12-30</td>\n",
       "      <td>1.6</td>\n",
       "      <td>Virgin Islands</td>\n",
       "      <td>St Thomas</td>\n",
       "      <td>7.0</td>\n",
       "      <td>2005</td>\n",
       "      <td>12</td>\n",
       "      <td>Dec</td>\n",
       "    </tr>\n",
       "    <tr>\n",
       "      <th>3</th>\n",
       "      <td>78</td>\n",
       "      <td>030</td>\n",
       "      <td>2005-09-07</td>\n",
       "      <td>0.1</td>\n",
       "      <td>Virgin Islands</td>\n",
       "      <td>St Thomas</td>\n",
       "      <td>0.0</td>\n",
       "      <td>2005</td>\n",
       "      <td>9</td>\n",
       "      <td>Sep</td>\n",
       "    </tr>\n",
       "    <tr>\n",
       "      <th>4</th>\n",
       "      <td>78</td>\n",
       "      <td>030</td>\n",
       "      <td>2004-02-09</td>\n",
       "      <td>2.3</td>\n",
       "      <td>Virgin Islands</td>\n",
       "      <td>St Thomas</td>\n",
       "      <td>10.0</td>\n",
       "      <td>2004</td>\n",
       "      <td>2</td>\n",
       "      <td>Feb</td>\n",
       "    </tr>\n",
       "  </tbody>\n",
       "</table>\n",
       "</div>"
      ],
      "text/plain": [
       "  state_code county_code date_local  arithmetic_mean      state_name  \\\n",
       "0         78         030 2007-03-01              3.1  Virgin Islands   \n",
       "1         78         030 2007-03-25              5.5  Virgin Islands   \n",
       "2         78         030 2005-12-30              1.6  Virgin Islands   \n",
       "3         78         030 2005-09-07              0.1  Virgin Islands   \n",
       "4         78         030 2004-02-09              2.3  Virgin Islands   \n",
       "\n",
       "  county_name   aqi  year  month month_name  \n",
       "0   St Thomas  13.0  2007      3        Mar  \n",
       "1   St Thomas  23.0  2007      3        Mar  \n",
       "2   St Thomas   7.0  2005     12        Dec  \n",
       "3   St Thomas   0.0  2005      9        Sep  \n",
       "4   St Thomas  10.0  2004      2        Feb  "
      ]
     },
     "execution_count": 5,
     "metadata": {},
     "output_type": "execute_result"
    }
   ],
   "source": [
    "bq_assistant = BigQueryHelper(\"bigquery-public-data\", \"epa_historical_air_quality\")\n",
    "df_pm25 = bq_assistant.query_to_pandas(QUERY) # getting data through big query to pandas\n",
    "df_pm25['date_local'] = pd.to_datetime(df_pm25['date_local'])\n",
    "df_pm25['year'] = df_pm25['date_local'].dt.year\n",
    "df_pm25['month'] = df_pm25['date_local'].dt.month\n",
    "import calendar\n",
    "df_pm25['month_name'] = df_pm25['month'].apply(lambda x: calendar.month_abbr[x])\n",
    "df_pm25['aqi'].fillna(df_pm25['aqi'].mean(), inplace = True)\n",
    "df_pm25.head()"
   ]
  },
  {
   "cell_type": "code",
   "execution_count": 6,
   "metadata": {},
   "outputs": [
    {
     "name": "stdout",
     "output_type": "stream",
     "text": [
      "<class 'pandas.core.frame.DataFrame'>\n",
      "Int64Index: 1844674 entries, 0 to 44673\n",
      "Data columns (total 10 columns):\n",
      "state_code         object\n",
      "county_code        object\n",
      "date_local         datetime64[ns]\n",
      "arithmetic_mean    float64\n",
      "state_name         object\n",
      "county_name        object\n",
      "aqi                float64\n",
      "year               int64\n",
      "month              int64\n",
      "month_name         object\n",
      "dtypes: datetime64[ns](1), float64(2), int64(2), object(5)\n",
      "memory usage: 154.8+ MB\n",
      "<class 'pandas.core.frame.DataFrame'>\n",
      "Int64Index: 1844674 entries, 0 to 44673\n",
      "Data columns (total 10 columns):\n",
      "state_code         object\n",
      "county_code        object\n",
      "date_local         datetime64[ns]\n",
      "arithmetic_mean    float64\n",
      "state_name         object\n",
      "county_name        object\n",
      "aqi                float64\n",
      "year               int64\n",
      "month              int64\n",
      "month_name         object\n",
      "dtypes: datetime64[ns](1), float64(2), int64(2), object(5)\n",
      "memory usage: 154.8+ MB\n"
     ]
    }
   ],
   "source": [
    "df_pm25.info() \n",
    "df_pm25.drop_duplicates()\n",
    "df_pm25.info() "
   ]
  },
  {
   "cell_type": "code",
   "execution_count": 7,
   "metadata": {},
   "outputs": [],
   "source": [
    "import sklearn "
   ]
  },
  {
   "cell_type": "code",
   "execution_count": 8,
   "metadata": {},
   "outputs": [],
   "source": [
    "from sklearn.model_selection import train_test_split\n",
    "from sklearn import preprocessing"
   ]
  },
  {
   "cell_type": "code",
   "execution_count": 9,
   "metadata": {},
   "outputs": [],
   "source": [
    "#now we would like to predict AQI of pm25 using sklearn,but now we have to use pandas get dummies and one-hot encoder."
   ]
  },
  {
   "cell_type": "code",
   "execution_count": 10,
   "metadata": {},
   "outputs": [
    {
     "data": {
      "text/plain": [
       "California              202037\n",
       "Pennsylvania            100662\n",
       "Hawaii                   90342\n",
       "Indiana                  75614\n",
       "Florida                  74652\n",
       "Ohio                     71064\n",
       "North Carolina           59707\n",
       "Georgia                  55551\n",
       "Iowa                     54863\n",
       "Michigan                 51259\n",
       "Utah                     44902\n",
       "New York                 44032\n",
       "Colorado                 42329\n",
       "Virginia                 41904\n",
       "New Jersey               41823\n",
       "Alabama                  40729\n",
       "Wyoming                  38880\n",
       "South Carolina           38788\n",
       "Illinois                 38690\n",
       "Tennessee                37970\n",
       "Louisiana                34117\n",
       "Texas                    33579\n",
       "Kentucky                 31761\n",
       "Massachusetts            28623\n",
       "Wisconsin                28514\n",
       "Arkansas                 27097\n",
       "New Mexico               26487\n",
       "Nevada                   25776\n",
       "Connecticut              25011\n",
       "West Virginia            24834\n",
       "Maryland                 24457\n",
       "Missouri                 23677\n",
       "Oregon                   22728\n",
       "Minnesota                20777\n",
       "Oklahoma                 18536\n",
       "Rhode Island             18407\n",
       "Arizona                  17776\n",
       "Kansas                   16736\n",
       "Nebraska                 16165\n",
       "Washington               15119\n",
       "Mississippi              14661\n",
       "Delaware                 14010\n",
       "Montana                  13812\n",
       "District Of Columbia     12520\n",
       "Puerto Rico              12312\n",
       "Idaho                    11002\n",
       "South Dakota             10632\n",
       "New Hampshire             8060\n",
       "Alaska                    7190\n",
       "Vermont                   6871\n",
       "North Dakota              4904\n",
       "Maine                     1755\n",
       "Virgin Islands             704\n",
       "Canada                     266\n",
       "Name: state_name, dtype: int64"
      ]
     },
     "execution_count": 10,
     "metadata": {},
     "output_type": "execute_result"
    }
   ],
   "source": [
    "df_pm25['state_name'].value_counts()"
   ]
  },
  {
   "cell_type": "code",
   "execution_count": 24,
   "metadata": {},
   "outputs": [],
   "source": [
    "le = preprocessing.LabelEncoder()"
   ]
  },
  {
   "cell_type": "code",
   "execution_count": 25,
   "metadata": {},
   "outputs": [
    {
     "data": {
      "text/plain": [
       "LabelEncoder()"
      ]
     },
     "execution_count": 25,
     "metadata": {},
     "output_type": "execute_result"
    }
   ],
   "source": [
    "le.fit(df_pm25['state_name'])"
   ]
  },
  {
   "cell_type": "code",
   "execution_count": 17,
   "metadata": {},
   "outputs": [
    {
     "data": {
      "text/plain": [
       "['Alabama',\n",
       " 'Alaska',\n",
       " 'Arizona',\n",
       " 'Arkansas',\n",
       " 'California',\n",
       " 'Canada',\n",
       " 'Colorado',\n",
       " 'Connecticut',\n",
       " 'Delaware',\n",
       " 'District Of Columbia',\n",
       " 'Florida',\n",
       " 'Georgia',\n",
       " 'Hawaii',\n",
       " 'Idaho',\n",
       " 'Illinois',\n",
       " 'Indiana',\n",
       " 'Iowa',\n",
       " 'Kansas',\n",
       " 'Kentucky',\n",
       " 'Louisiana',\n",
       " 'Maine',\n",
       " 'Maryland',\n",
       " 'Massachusetts',\n",
       " 'Michigan',\n",
       " 'Minnesota',\n",
       " 'Mississippi',\n",
       " 'Missouri',\n",
       " 'Montana',\n",
       " 'Nebraska',\n",
       " 'Nevada',\n",
       " 'New Hampshire',\n",
       " 'New Jersey',\n",
       " 'New Mexico',\n",
       " 'New York',\n",
       " 'North Carolina',\n",
       " 'North Dakota',\n",
       " 'Ohio',\n",
       " 'Oklahoma',\n",
       " 'Oregon',\n",
       " 'Pennsylvania',\n",
       " 'Puerto Rico',\n",
       " 'Rhode Island',\n",
       " 'South Carolina',\n",
       " 'South Dakota',\n",
       " 'Tennessee',\n",
       " 'Texas',\n",
       " 'Utah',\n",
       " 'Vermont',\n",
       " 'Virgin Islands',\n",
       " 'Virginia',\n",
       " 'Washington',\n",
       " 'West Virginia',\n",
       " 'Wisconsin',\n",
       " 'Wyoming']"
      ]
     },
     "execution_count": 17,
     "metadata": {},
     "output_type": "execute_result"
    }
   ],
   "source": [
    "list(le.classes_)"
   ]
  },
  {
   "cell_type": "code",
   "execution_count": 26,
   "metadata": {},
   "outputs": [],
   "source": [
    "state = le.transform(df_pm25['state_name'])"
   ]
  },
  {
   "cell_type": "code",
   "execution_count": 27,
   "metadata": {},
   "outputs": [
    {
     "data": {
      "text/plain": [
       "array([48, 48, 48, ..., 40, 40, 40])"
      ]
     },
     "execution_count": 27,
     "metadata": {},
     "output_type": "execute_result"
    }
   ],
   "source": [
    "state"
   ]
  },
  {
   "cell_type": "code",
   "execution_count": 11,
   "metadata": {},
   "outputs": [
    {
     "data": {
      "text/html": [
       "<div>\n",
       "<style scoped>\n",
       "    .dataframe tbody tr th:only-of-type {\n",
       "        vertical-align: middle;\n",
       "    }\n",
       "\n",
       "    .dataframe tbody tr th {\n",
       "        vertical-align: top;\n",
       "    }\n",
       "\n",
       "    .dataframe thead th {\n",
       "        text-align: right;\n",
       "    }\n",
       "</style>\n",
       "<table border=\"1\" class=\"dataframe\">\n",
       "  <thead>\n",
       "    <tr style=\"text-align: right;\">\n",
       "      <th></th>\n",
       "      <th>state_code</th>\n",
       "      <th>county_code</th>\n",
       "      <th>aqi</th>\n",
       "      <th>year</th>\n",
       "      <th>month</th>\n",
       "    </tr>\n",
       "  </thead>\n",
       "  <tbody>\n",
       "    <tr>\n",
       "      <th>0</th>\n",
       "      <td>78</td>\n",
       "      <td>030</td>\n",
       "      <td>13.0</td>\n",
       "      <td>2007</td>\n",
       "      <td>3</td>\n",
       "    </tr>\n",
       "    <tr>\n",
       "      <th>1</th>\n",
       "      <td>78</td>\n",
       "      <td>030</td>\n",
       "      <td>23.0</td>\n",
       "      <td>2007</td>\n",
       "      <td>3</td>\n",
       "    </tr>\n",
       "    <tr>\n",
       "      <th>2</th>\n",
       "      <td>78</td>\n",
       "      <td>030</td>\n",
       "      <td>7.0</td>\n",
       "      <td>2005</td>\n",
       "      <td>12</td>\n",
       "    </tr>\n",
       "    <tr>\n",
       "      <th>3</th>\n",
       "      <td>78</td>\n",
       "      <td>030</td>\n",
       "      <td>0.0</td>\n",
       "      <td>2005</td>\n",
       "      <td>9</td>\n",
       "    </tr>\n",
       "    <tr>\n",
       "      <th>4</th>\n",
       "      <td>78</td>\n",
       "      <td>030</td>\n",
       "      <td>10.0</td>\n",
       "      <td>2004</td>\n",
       "      <td>2</td>\n",
       "    </tr>\n",
       "  </tbody>\n",
       "</table>\n",
       "</div>"
      ],
      "text/plain": [
       "  state_code county_code   aqi  year  month\n",
       "0         78         030  13.0  2007      3\n",
       "1         78         030  23.0  2007      3\n",
       "2         78         030   7.0  2005     12\n",
       "3         78         030   0.0  2005      9\n",
       "4         78         030  10.0  2004      2"
      ]
     },
     "execution_count": 11,
     "metadata": {},
     "output_type": "execute_result"
    }
   ],
   "source": [
    "sub = df_pm25[['state_code','county_code','aqi','year','month']]\n",
    "sub.head()"
   ]
  },
  {
   "cell_type": "code",
   "execution_count": 12,
   "metadata": {},
   "outputs": [
    {
     "name": "stdout",
     "output_type": "stream",
     "text": [
      "<class 'pandas.core.frame.DataFrame'>\n",
      "Int64Index: 1844674 entries, 0 to 44673\n",
      "Data columns (total 5 columns):\n",
      "state_code     object\n",
      "county_code    object\n",
      "aqi            int64\n",
      "year           int64\n",
      "month          int64\n",
      "dtypes: int64(3), object(2)\n",
      "memory usage: 84.4+ MB\n"
     ]
    }
   ],
   "source": [
    "sub.aqi = sub.aqi.astype(int)\n",
    "sub.info()"
   ]
  },
  {
   "cell_type": "code",
   "execution_count": 13,
   "metadata": {},
   "outputs": [],
   "source": [
    "#now we will encode the year as year is non-numerical data. That way it is easier for us to predict aqi with sklearn machine learning."
   ]
  },
  {
   "cell_type": "code",
   "execution_count": 14,
   "metadata": {},
   "outputs": [],
   "source": [
    "def categorical_encoder(df):\n",
    "    data_original = df[:]\n",
    "    data_transformed = df[:]\n",
    "    for i in df.columns:\n",
    "        if df[i].dtype == object:\n",
    "            le = preprocessing.LabelEncoder()\n",
    "            le.fit(df[i])\n",
    "            data_transformed[i] = le.transform(df[i])\n",
    "            #original data is le.inverse transform\n",
    "            data_original[i] = le.inverse_transform(data_transformed[i])\n",
    "    return data_transformed"
   ]
  },
  {
   "cell_type": "code",
   "execution_count": 15,
   "metadata": {},
   "outputs": [
    {
     "name": "stdout",
     "output_type": "stream",
     "text": [
      "<class 'pandas.core.frame.DataFrame'>\n",
      "Int64Index: 1844674 entries, 0 to 44673\n",
      "Data columns (total 5 columns):\n",
      "state_code     int64\n",
      "county_code    int64\n",
      "aqi            int64\n",
      "year           int64\n",
      "month          int64\n",
      "dtypes: int64(5)\n",
      "memory usage: 84.4 MB\n"
     ]
    }
   ],
   "source": [
    "new_sub = categorical_encoder(sub)\n",
    "new_sub.info()"
   ]
  },
  {
   "cell_type": "code",
   "execution_count": 16,
   "metadata": {},
   "outputs": [
    {
     "data": {
      "text/html": [
       "<div>\n",
       "<style scoped>\n",
       "    .dataframe tbody tr th:only-of-type {\n",
       "        vertical-align: middle;\n",
       "    }\n",
       "\n",
       "    .dataframe tbody tr th {\n",
       "        vertical-align: top;\n",
       "    }\n",
       "\n",
       "    .dataframe thead th {\n",
       "        text-align: right;\n",
       "    }\n",
       "</style>\n",
       "<table border=\"1\" class=\"dataframe\">\n",
       "  <thead>\n",
       "    <tr style=\"text-align: right;\">\n",
       "      <th></th>\n",
       "      <th>state_code</th>\n",
       "      <th>county_code</th>\n",
       "      <th>aqi</th>\n",
       "      <th>year</th>\n",
       "      <th>month</th>\n",
       "    </tr>\n",
       "  </thead>\n",
       "  <tbody>\n",
       "    <tr>\n",
       "      <th>0</th>\n",
       "      <td>52</td>\n",
       "      <td>17</td>\n",
       "      <td>13</td>\n",
       "      <td>2007</td>\n",
       "      <td>3</td>\n",
       "    </tr>\n",
       "    <tr>\n",
       "      <th>1</th>\n",
       "      <td>52</td>\n",
       "      <td>17</td>\n",
       "      <td>23</td>\n",
       "      <td>2007</td>\n",
       "      <td>3</td>\n",
       "    </tr>\n",
       "    <tr>\n",
       "      <th>2</th>\n",
       "      <td>52</td>\n",
       "      <td>17</td>\n",
       "      <td>7</td>\n",
       "      <td>2005</td>\n",
       "      <td>12</td>\n",
       "    </tr>\n",
       "    <tr>\n",
       "      <th>3</th>\n",
       "      <td>52</td>\n",
       "      <td>17</td>\n",
       "      <td>0</td>\n",
       "      <td>2005</td>\n",
       "      <td>9</td>\n",
       "    </tr>\n",
       "    <tr>\n",
       "      <th>4</th>\n",
       "      <td>52</td>\n",
       "      <td>17</td>\n",
       "      <td>10</td>\n",
       "      <td>2004</td>\n",
       "      <td>2</td>\n",
       "    </tr>\n",
       "  </tbody>\n",
       "</table>\n",
       "</div>"
      ],
      "text/plain": [
       "   state_code  county_code  aqi  year  month\n",
       "0          52           17   13  2007      3\n",
       "1          52           17   23  2007      3\n",
       "2          52           17    7  2005     12\n",
       "3          52           17    0  2005      9\n",
       "4          52           17   10  2004      2"
      ]
     },
     "execution_count": 16,
     "metadata": {},
     "output_type": "execute_result"
    }
   ],
   "source": [
    "new_sub.aqi = new_sub.aqi.astype(int)\n",
    "new_sub.head()"
   ]
  },
  {
   "cell_type": "code",
   "execution_count": 17,
   "metadata": {},
   "outputs": [
    {
     "data": {
      "text/plain": [
       "<matplotlib.axes._subplots.AxesSubplot at 0x7f4d48cbb4e0>"
      ]
     },
     "execution_count": 17,
     "metadata": {},
     "output_type": "execute_result"
    },
    {
     "data": {
      "image/png": "[encoded data removed]",
      "text/plain": [
       "<Figure size 432x288 with 1 Axes>"
      ]
     },
     "metadata": {
      "needs_background": "light"
     },
     "output_type": "display_data"
    }
   ],
   "source": [
    "#now let's train the data: we would like to predict aqi \n",
    "#first we will see if we would clean the data\n",
    "import seaborn as sns\n",
    "import matplotlib as plt\n",
    "%matplotlib inline\n",
    "sns.heatmap(new_sub.isnull(), yticklabels = False, cbar = False, cmap = 'viridis')\n"
   ]
  },
  {
   "cell_type": "code",
   "execution_count": null,
   "metadata": {},
   "outputs": [],
   "source": [
    "cols = ['state_code', 'county_code','aqi','year','month']\n",
    "sns.pairplot(new_sub[cols],height = 2.5)\n",
    "plt.tight_layout()\n",
    "plt.show()"
   ]
  },
  {
   "cell_type": "code",
   "execution_count": null,
   "metadata": {},
   "outputs": [],
   "source": []
  },
  {
   "cell_type": "code",
   "execution_count": null,
   "metadata": {},
   "outputs": [],
   "source": []
  },
  {
   "cell_type": "code",
   "execution_count": null,
   "metadata": {},
   "outputs": [],
   "source": []
  },
  {
   "cell_type": "code",
   "execution_count": null,
   "metadata": {},
   "outputs": [],
   "source": []
  },
  {
   "cell_type": "code",
   "execution_count": null,
   "metadata": {},
   "outputs": [],
   "source": []
  },
  {
   "cell_type": "code",
   "execution_count": null,
   "metadata": {},
   "outputs": [],
   "source": []
  }
 ],
 "metadata": {
  "kernelspec": {
   "display_name": "Python 3",
   "language": "python",
   "name": "python3"
  },
  "language_info": {
   "codemirror_mode": {
    "name": "ipython",
    "version": 3
   },
   "file_extension": ".py",
   "mimetype": "text/x-python",
   "name": "python",
   "nbconvert_exporter": "python",
   "pygments_lexer": "ipython3",
   "version": "3.7.1"
  }
 },
 "nbformat": 4,
 "nbformat_minor": 2
}
