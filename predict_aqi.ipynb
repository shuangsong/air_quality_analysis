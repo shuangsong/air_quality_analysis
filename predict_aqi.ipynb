{
 "cells": [
  {
   "cell_type": "code",
   "execution_count": 1,
   "metadata": {},
   "outputs": [],
   "source": [
    "%load_ext google.cloud.bigquery"
   ]
  },
  {
   "cell_type": "code",
   "execution_count": 2,
   "metadata": {},
   "outputs": [
    {
     "data": {
      "text/html": [
       "        <script type=\"text/javascript\">\n",
       "        window.PlotlyConfig = {MathJaxConfig: 'local'};\n",
       "        if (window.MathJax) {MathJax.Hub.Config({SVG: {font: \"STIX-Web\"}});}\n",
       "        if (typeof require !== 'undefined') {\n",
       "        require.undef(\"plotly\");\n",
       "        requirejs.config({\n",
       "            paths: {\n",
       "                'plotly': ['https://cdn.plot.ly/plotly-latest.min']\n",
       "            }\n",
       "        });\n",
       "        require(['plotly'], function(Plotly) {\n",
       "            window._Plotly = Plotly;\n",
       "        });\n",
       "        }\n",
       "        </script>\n",
       "        "
      ]
     },
     "metadata": {},
     "output_type": "display_data"
    }
   ],
   "source": [
    "import numpy as np \n",
    "import pandas as pd\n",
    "import os\n",
    "os.environ[\"GOOGLE_APPLICATION_CREDENTIALS\"]=\"/home/shuang/Downloads/bqair-2b59936a9500.json\"\n",
    "\n",
    "# Big query helpers\n",
    "from google.cloud import bigquery\n",
    "from bq_helper import BigQueryHelper\n",
    "\n",
    "# Import plotting libaries\n",
    "import matplotlib.pyplot as plt\n",
    "import plotly.graph_objs as go\n",
    "import plotly.plotly as py\n",
    "import plotly.figure_factory as ff\n",
    "import plotly.io as pio\n",
    "import geopandas\n",
    "import shapely\n",
    "\n",
    "# the Plotly in offline mode we can see map in the notebook.\n",
    "from plotly.offline import download_plotlyjs,init_notebook_mode, plot,iplot\n",
    "init_notebook_mode(connected=True)"
   ]
  },
  {
   "cell_type": "code",
   "execution_count": 3,
   "metadata": {},
   "outputs": [],
   "source": [
    "import plotly\n",
    "plotly.tools.set_credentials_file(username='cleopathy', api_key='Vt9pQQVXJcV8bqHarLVt')"
   ]
  },
  {
   "cell_type": "code",
   "execution_count": 4,
   "metadata": {},
   "outputs": [],
   "source": [
    "# getting pm25 data:\n",
    "QUERY = \"\"\"\n",
    "    SELECT\n",
    "        state_code,\n",
    "        county_code,\n",
    "        date_local,\n",
    "        arithmetic_mean,\n",
    "        state_name,\n",
    "        county_name,\n",
    "        aqi\n",
    "    FROM\n",
    "      `bigquery-public-data.epa_historical_air_quality.pm25_frm_daily_summary`\n",
    "    WHERE\n",
    "      poc = 1\n",
    "      AND EXTRACT(YEAR FROM date_local) in (2004,2005,2006,2007,2008,2009,2010,2011,2012,2013,2014,2015,2016,2017)\n",
    "    \n",
    "        \"\"\""
   ]
  },
  {
   "cell_type": "code",
   "execution_count": 5,
   "metadata": {},
   "outputs": [
    {
     "data": {
      "text/html": [
       "<div>\n",
       "<style scoped>\n",
       "    .dataframe tbody tr th:only-of-type {\n",
       "        vertical-align: middle;\n",
       "    }\n",
       "\n",
       "    .dataframe tbody tr th {\n",
       "        vertical-align: top;\n",
       "    }\n",
       "\n",
       "    .dataframe thead th {\n",
       "        text-align: right;\n",
       "    }\n",
       "</style>\n",
       "<table border=\"1\" class=\"dataframe\">\n",
       "  <thead>\n",
       "    <tr style=\"text-align: right;\">\n",
       "      <th></th>\n",
       "      <th>state_code</th>\n",
       "      <th>county_code</th>\n",
       "      <th>date_local</th>\n",
       "      <th>arithmetic_mean</th>\n",
       "      <th>state_name</th>\n",
       "      <th>county_name</th>\n",
       "      <th>aqi</th>\n",
       "      <th>year</th>\n",
       "      <th>month</th>\n",
       "      <th>month_name</th>\n",
       "    </tr>\n",
       "  </thead>\n",
       "  <tbody>\n",
       "    <tr>\n",
       "      <th>0</th>\n",
       "      <td>78</td>\n",
       "      <td>010</td>\n",
       "      <td>2004-12-17</td>\n",
       "      <td>2.0</td>\n",
       "      <td>Virgin Islands</td>\n",
       "      <td>St Croix</td>\n",
       "      <td>8.0</td>\n",
       "      <td>2004</td>\n",
       "      <td>12</td>\n",
       "      <td>Dec</td>\n",
       "    </tr>\n",
       "    <tr>\n",
       "      <th>1</th>\n",
       "      <td>78</td>\n",
       "      <td>030</td>\n",
       "      <td>2007-02-11</td>\n",
       "      <td>4.5</td>\n",
       "      <td>Virgin Islands</td>\n",
       "      <td>St Thomas</td>\n",
       "      <td>19.0</td>\n",
       "      <td>2007</td>\n",
       "      <td>2</td>\n",
       "      <td>Feb</td>\n",
       "    </tr>\n",
       "    <tr>\n",
       "      <th>2</th>\n",
       "      <td>78</td>\n",
       "      <td>010</td>\n",
       "      <td>2006-08-03</td>\n",
       "      <td>19.5</td>\n",
       "      <td>Virgin Islands</td>\n",
       "      <td>St Croix</td>\n",
       "      <td>67.0</td>\n",
       "      <td>2006</td>\n",
       "      <td>8</td>\n",
       "      <td>Aug</td>\n",
       "    </tr>\n",
       "    <tr>\n",
       "      <th>3</th>\n",
       "      <td>78</td>\n",
       "      <td>010</td>\n",
       "      <td>2006-08-09</td>\n",
       "      <td>6.2</td>\n",
       "      <td>Virgin Islands</td>\n",
       "      <td>St Croix</td>\n",
       "      <td>26.0</td>\n",
       "      <td>2006</td>\n",
       "      <td>8</td>\n",
       "      <td>Aug</td>\n",
       "    </tr>\n",
       "    <tr>\n",
       "      <th>4</th>\n",
       "      <td>78</td>\n",
       "      <td>010</td>\n",
       "      <td>2006-10-14</td>\n",
       "      <td>2.7</td>\n",
       "      <td>Virgin Islands</td>\n",
       "      <td>St Croix</td>\n",
       "      <td>11.0</td>\n",
       "      <td>2006</td>\n",
       "      <td>10</td>\n",
       "      <td>Oct</td>\n",
       "    </tr>\n",
       "  </tbody>\n",
       "</table>\n",
       "</div>"
      ],
      "text/plain": [
       "  state_code county_code date_local  arithmetic_mean      state_name  \\\n",
       "0         78         010 2004-12-17              2.0  Virgin Islands   \n",
       "1         78         030 2007-02-11              4.5  Virgin Islands   \n",
       "2         78         010 2006-08-03             19.5  Virgin Islands   \n",
       "3         78         010 2006-08-09              6.2  Virgin Islands   \n",
       "4         78         010 2006-10-14              2.7  Virgin Islands   \n",
       "\n",
       "  county_name   aqi  year  month month_name  \n",
       "0    St Croix   8.0  2004     12        Dec  \n",
       "1   St Thomas  19.0  2007      2        Feb  \n",
       "2    St Croix  67.0  2006      8        Aug  \n",
       "3    St Croix  26.0  2006      8        Aug  \n",
       "4    St Croix  11.0  2006     10        Oct  "
      ]
     },
     "execution_count": 5,
     "metadata": {},
     "output_type": "execute_result"
    }
   ],
   "source": [
    "bq_assistant = BigQueryHelper(\"bigquery-public-data\", \"epa_historical_air_quality\")\n",
    "df_pm25 = bq_assistant.query_to_pandas(QUERY) # getting data through big query to pandas\n",
    "df_pm25['date_local'] = pd.to_datetime(df_pm25['date_local'])\n",
    "df_pm25['year'] = df_pm25['date_local'].dt.year\n",
    "df_pm25['month'] = df_pm25['date_local'].dt.month\n",
    "import calendar\n",
    "df_pm25['month_name'] = df_pm25['month'].apply(lambda x: calendar.month_abbr[x])\n",
    "df_pm25['aqi'].fillna(df_pm25['aqi'].mean(), inplace = True)\n",
    "df_pm25.head()"
   ]
  },
  {
   "cell_type": "code",
   "execution_count": 6,
   "metadata": {},
   "outputs": [
    {
     "name": "stdout",
     "output_type": "stream",
     "text": [
      "<class 'pandas.core.frame.DataFrame'>\n",
      "Int64Index: 1844133 entries, 0 to 44132\n",
      "Data columns (total 10 columns):\n",
      "state_code         object\n",
      "county_code        object\n",
      "date_local         datetime64[ns]\n",
      "arithmetic_mean    float64\n",
      "state_name         object\n",
      "county_name        object\n",
      "aqi                float64\n",
      "year               int64\n",
      "month              int64\n",
      "month_name         object\n",
      "dtypes: datetime64[ns](1), float64(2), int64(2), object(5)\n",
      "memory usage: 154.8+ MB\n",
      "<class 'pandas.core.frame.DataFrame'>\n",
      "Int64Index: 1844133 entries, 0 to 44132\n",
      "Data columns (total 10 columns):\n",
      "state_code         object\n",
      "county_code        object\n",
      "date_local         datetime64[ns]\n",
      "arithmetic_mean    float64\n",
      "state_name         object\n",
      "county_name        object\n",
      "aqi                float64\n",
      "year               int64\n",
      "month              int64\n",
      "month_name         object\n",
      "dtypes: datetime64[ns](1), float64(2), int64(2), object(5)\n",
      "memory usage: 154.8+ MB\n"
     ]
    }
   ],
   "source": [
    "df_pm25.info() \n",
    "df_pm25.drop_duplicates()\n",
    "df_pm25.info() "
   ]
  },
  {
   "cell_type": "code",
   "execution_count": 8,
   "metadata": {},
   "outputs": [
    {
     "data": {
      "text/html": [
       "<div>\n",
       "<style scoped>\n",
       "    .dataframe tbody tr th:only-of-type {\n",
       "        vertical-align: middle;\n",
       "    }\n",
       "\n",
       "    .dataframe tbody tr th {\n",
       "        vertical-align: top;\n",
       "    }\n",
       "\n",
       "    .dataframe thead th {\n",
       "        text-align: right;\n",
       "    }\n",
       "</style>\n",
       "<table border=\"1\" class=\"dataframe\">\n",
       "  <thead>\n",
       "    <tr style=\"text-align: right;\">\n",
       "      <th></th>\n",
       "      <th>state_name</th>\n",
       "      <th>aqi</th>\n",
       "    </tr>\n",
       "  </thead>\n",
       "  <tbody>\n",
       "    <tr>\n",
       "      <th>0</th>\n",
       "      <td>Alabama</td>\n",
       "      <td>45.0</td>\n",
       "    </tr>\n",
       "    <tr>\n",
       "      <th>1</th>\n",
       "      <td>Alaska</td>\n",
       "      <td>34.0</td>\n",
       "    </tr>\n",
       "    <tr>\n",
       "      <th>2</th>\n",
       "      <td>Arizona</td>\n",
       "      <td>32.0</td>\n",
       "    </tr>\n",
       "    <tr>\n",
       "      <th>3</th>\n",
       "      <td>Arkansas</td>\n",
       "      <td>43.0</td>\n",
       "    </tr>\n",
       "    <tr>\n",
       "      <th>4</th>\n",
       "      <td>California</td>\n",
       "      <td>41.0</td>\n",
       "    </tr>\n",
       "  </tbody>\n",
       "</table>\n",
       "</div>"
      ],
      "text/plain": [
       "   state_name   aqi\n",
       "0     Alabama  45.0\n",
       "1      Alaska  34.0\n",
       "2     Arizona  32.0\n",
       "3    Arkansas  43.0\n",
       "4  California  41.0"
      ]
     },
     "execution_count": 8,
     "metadata": {},
     "output_type": "execute_result"
    }
   ],
   "source": [
    "tg_pm25 = df_pm25\n",
    "tg_pm25_avg = tg_pm25.groupby('state_name')['aqi'].mean()\n",
    "tg_pm25_avg = tg_pm25_avg.reset_index()\n",
    "tg_pm25_avg.aqi = tg_pm25_avg.aqi.round()\n",
    "tg_pm25_avg.head()"
   ]
  },
  {
   "cell_type": "code",
   "execution_count": 16,
   "metadata": {},
   "outputs": [],
   "source": [
    "import sklearn "
   ]
  },
  {
   "cell_type": "code",
   "execution_count": 18,
   "metadata": {},
   "outputs": [],
   "source": [
    "from sklearn.model_selection import train_test_split"
   ]
  },
  {
   "cell_type": "code",
   "execution_count": null,
   "metadata": {},
   "outputs": [],
   "source": [
    "#now we would like to predict AQI of pm25 using sklearn,but now we have to use pandas get dummies and one-hot encoder."
   ]
  },
  {
   "cell_type": "code",
   "execution_count": null,
   "metadata": {},
   "outputs": [],
   "source": []
  },
  {
   "cell_type": "code",
   "execution_count": null,
   "metadata": {},
   "outputs": [],
   "source": []
  },
  {
   "cell_type": "code",
   "execution_count": null,
   "metadata": {},
   "outputs": [],
   "source": []
  },
  {
   "cell_type": "code",
   "execution_count": null,
   "metadata": {},
   "outputs": [],
   "source": []
  },
  {
   "cell_type": "code",
   "execution_count": null,
   "metadata": {},
   "outputs": [],
   "source": []
  },
  {
   "cell_type": "code",
   "execution_count": null,
   "metadata": {},
   "outputs": [],
   "source": []
  },
  {
   "cell_type": "code",
   "execution_count": null,
   "metadata": {},
   "outputs": [],
   "source": []
  },
  {
   "cell_type": "code",
   "execution_count": null,
   "metadata": {},
   "outputs": [],
   "source": []
  },
  {
   "cell_type": "code",
   "execution_count": null,
   "metadata": {},
   "outputs": [],
   "source": []
  },
  {
   "cell_type": "code",
   "execution_count": null,
   "metadata": {},
   "outputs": [],
   "source": []
  }
 ],
 "metadata": {
  "kernelspec": {
   "display_name": "Python 3",
   "language": "python",
   "name": "python3"
  },
  "language_info": {
   "codemirror_mode": {
    "name": "ipython",
    "version": 3
   },
   "file_extension": ".py",
   "mimetype": "text/x-python",
   "name": "python",
   "nbconvert_exporter": "python",
   "pygments_lexer": "ipython3",
   "version": "3.7.1"
  }
 },
 "nbformat": 4,
 "nbformat_minor": 2
}
