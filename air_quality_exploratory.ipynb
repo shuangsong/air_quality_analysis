{
 "cells": [
  {
   "cell_type": "code",
   "execution_count": 1,
   "metadata": {},
   "outputs": [],
   "source": [
    "%load_ext google.cloud.bigquery"
   ]
  },
  {
   "cell_type": "code",
   "execution_count": null,
   "metadata": {},
   "outputs": [],
   "source": [
    "import numpy as np \n",
    "import pandas as pd\n",
    "import os\n",
    "os.environ[\"GOOGLE_APPLICATION_CREDENTIALS\"]=\"/home/shuang/Downloads/bqair-2b59936a9500.json\"\n",
    "\n",
    "# Big query helpers\n",
    "from google.cloud import bigquery\n",
    "from bq_helper import BigQueryHelper\n",
    "\n",
    "# Import plotting libaries\n",
    "import matplotlib.pyplot as plt\n",
    "import plotly.plotly as py\n",
    "import plotly.figure_factory as ff\n",
    "import plotly.io as pio\n",
    "import geopandas\n",
    "import shapely\n",
    "\n",
    "# the Plotly in offline mode we can see map in the notebook.\n",
    "from plotly.offline import download_plotlyjs,init_notebook_mode, plot,iplot\n",
    "init_notebook_mode(connected=True)"
   ]
  },
  {
   "cell_type": "code",
   "execution_count": null,
   "metadata": {},
   "outputs": [],
   "source": [
    "#getting CO daily summary data first:\n",
    "QUERY = \"\"\"\n",
    "    SELECT\n",
    "        state_code,\n",
    "        county_code,\n",
    "        date_local,\n",
    "        arithmetic_mean,\n",
    "        aqi\n",
    "    FROM\n",
    "      `bigquery-public-data.epa_historical_air_quality.co_daily_summary`\n",
    "    WHERE\n",
    "      poc = 1\n",
    "      AND EXTRACT(YEAR FROM date_local) = 2015\n",
    "    \n",
    "        \"\"\""
   ]
  },
  {
   "cell_type": "code",
   "execution_count": null,
   "metadata": {},
   "outputs": [],
   "source": [
    "bq_assistant = BigQueryHelper(\"bigquery-public-data\", \"epa_historical_air_quality\")"
   ]
  },
  {
   "cell_type": "code",
   "execution_count": null,
   "metadata": {},
   "outputs": [],
   "source": [
    "df_co = bq_assistant.query_to_pandas(QUERY) # getting data through big query to pandas"
   ]
  },
  {
   "cell_type": "code",
   "execution_count": null,
   "metadata": {},
   "outputs": [],
   "source": [
    "df_co.head()"
   ]
  },
  {
   "cell_type": "code",
   "execution_count": null,
   "metadata": {},
   "outputs": [],
   "source": [
    "df_co['date_local'] = pd.to_datetime(df_co['date_local'])\n",
    "df_co['year'] = df_co['date_local'].dt.year\n",
    "df_co['month'] = df_co['date_local'].dt.month\n",
    "df_co.head()"
   ]
  },
  {
   "cell_type": "code",
   "execution_count": null,
   "metadata": {},
   "outputs": [],
   "source": []
  },
  {
   "cell_type": "code",
   "execution_count": null,
   "metadata": {},
   "outputs": [],
   "source": []
  },
  {
   "cell_type": "code",
   "execution_count": null,
   "metadata": {},
   "outputs": [],
   "source": []
  },
  {
   "cell_type": "code",
   "execution_count": null,
   "metadata": {},
   "outputs": [],
   "source": []
  },
  {
   "cell_type": "code",
   "execution_count": null,
   "metadata": {},
   "outputs": [],
   "source": []
  },
  {
   "cell_type": "code",
   "execution_count": null,
   "metadata": {},
   "outputs": [],
   "source": []
  }
 ],
 "metadata": {
  "kernelspec": {
   "display_name": "Python 3",
   "language": "python",
   "name": "python3"
  },
  "language_info": {
   "codemirror_mode": {
    "name": "ipython",
    "version": 3
   },
   "file_extension": ".py",
   "mimetype": "text/x-python",
   "name": "python",
   "nbconvert_exporter": "python",
   "pygments_lexer": "ipython3",
   "version": "3.7.1"
  }
 },
 "nbformat": 4,
 "nbformat_minor": 2
}
